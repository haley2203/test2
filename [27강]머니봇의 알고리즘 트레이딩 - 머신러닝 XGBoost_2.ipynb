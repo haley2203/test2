{
 "cells": [
  {
   "cell_type": "code",
   "execution_count": 18,
   "metadata": {
    "collapsed": false,
    "deletable": true,
    "editable": true
   },
   "outputs": [
    {
     "name": "stdout",
     "output_type": "stream",
     "text": [
      "Populating the interactive namespace from numpy and matplotlib\n"
     ]
    },
    {
     "name": "stderr",
     "output_type": "stream",
     "text": [
      "C:\\Anaconda3\\lib\\site-packages\\IPython\\core\\magics\\pylab.py:161: UserWarning: pylab import has clobbered these variables: ['norm']\n",
      "`%matplotlib` prevents importing * from pylab and numpy\n",
      "  \"\\n`%matplotlib` prevents importing * from pylab and numpy\"\n"
     ]
    }
   ],
   "source": [
    "%pylab inline\n",
    "\n",
    "import os, glob, sys, time, datetime\n",
    "import pandas as pd\n",
    "import pandas.io.sql as pdsql\n",
    "from pandas import DataFrame, Series\n",
    "import math\n",
    "import numpy as np\n",
    "from numpy import NaN, Inf, arange, isscalar, asarray, array\n",
    "import scipy as sp\n",
    "from scipy import stats\n",
    "from scipy.stats import norm\n",
    "\n",
    "import talib as ta\n",
    "from talib import MA_Type\n",
    "\n",
    "import matplotlib.pyplot as plt\n",
    "import matplotlib.ticker as ticker\n",
    "from matplotlib import dates\n",
    "import matplotlib.font_manager as font_manager\n",
    "import seaborn as sns\n",
    "\n",
    "#맑은고딕체\n",
    "sns.set(style=\"whitegrid\", font=\"Malgun Gothic\", font_scale=1.5)\n",
    "matplotlib.rcParams['figure.figsize'] = [20, 10]\n",
    "fp = font_manager.FontProperties(fname=\"C:\\\\WINDOWS\\\\Fonts\\\\malgun.TTF\", size=15)\n",
    "\n",
    "#나눔고딕체\n",
    "# sns.set(style=\"whitegrid\", font=\"NanumGothic\", font_scale=1.5)\n",
    "# matplotlib.rcParams['figure.figsize'] = [20, 10]\n",
    "# fp = font_manager.FontProperties(fname=\"C:\\\\WINDOWS\\\\Fonts\\\\NanumGothic.TTF\", size=15)\n",
    "\n",
    "#새굴림체\n",
    "# sns.set(style=\"whitegrid\", font=\"New Gulim\", font_scale=1.5)\n",
    "# matplotlib.rcParams['figure.figsize'] = [20, 10]\n",
    "# fp = font_manager.FontProperties(fname=\"C:\\\\WINDOWS\\\\Fonts\\\\NGULIM.TTF\", size=15)\n",
    "\n",
    "def comma_volume(x, pos):  # formatter function takes tick label and tick position\n",
    "    s = '{:0,d}K'.format(int(x/1000))\n",
    "    return s\n",
    "\n",
    "def comma_price(x, pos):  # formatter function takes tick label and tick position\n",
    "    s = '{:0,d}'.format(int(x))\n",
    "    return s\n",
    "\n",
    "def comma_percent(x, pos):  # formatter function takes tick label and tick position\n",
    "    s = '{:+.2f}'.format(x)\n",
    "    return s\n",
    "\n",
    "major_date_formatter = dates.DateFormatter('%Y-%m-%d')\n",
    "minor_date_formatter = dates.DateFormatter('%m')\n",
    "price_formatter = ticker.FuncFormatter(comma_price)\n",
    "volume_formatter = ticker.FuncFormatter(comma_volume)\n",
    "percent_formatter = ticker.FuncFormatter(comma_percent)\n",
    "\n",
    "sns.set(style=\"whitegrid\", font=\"Malgun Gothic\", font_scale=1.5)\n",
    "matplotlib.rcParams['figure.figsize'] = [20, 10]\n",
    "fp = font_manager.FontProperties(fname=\"C:\\\\WINDOWS\\\\Fonts\\\\malgun.TTF\", size=15)"
   ]
  },
  {
   "cell_type": "code",
   "execution_count": 19,
   "metadata": {
    "collapsed": false,
    "deletable": true,
    "editable": true
   },
   "outputs": [],
   "source": [
    "from sklearn import metrics\n",
    "from sklearn.metrics import accuracy_score\n",
    "from sklearn import cross_validation\n",
    "from sklearn.cross_validation import train_test_split\n",
    "from sklearn.cross_validation import cross_val_score\n",
    "from sklearn.model_selection import StratifiedKFold\n",
    "from sklearn.model_selection import GridSearchCV\n",
    "\n",
    "import xgboost as xgb\n",
    "from xgboost import XGBRegressor, XGBClassifier, XGBModel\n",
    "from xgboost import plot_importance, plot_tree"
   ]
  },
  {
   "cell_type": "code",
   "execution_count": 20,
   "metadata": {
    "collapsed": true,
    "deletable": true,
    "editable": true
   },
   "outputs": [],
   "source": [
    "def XGBoost_Feature(model, df, X_columns, y_columns, performCV=True, printFeatureImportance=True, cv_folds=5):\n",
    "    print(model)\n",
    "\n",
    "    model.fit(df[X_columns], df[y_columns])\n",
    "        \n",
    "    df_predictions = model.predict(df[X_columns])\n",
    "    try:\n",
    "        df_predprob = model.predict_proba(df[X_columns])[:,1]\n",
    "    except Exception as e:\n",
    "        pass\n",
    "\n",
    "    print (\"\\n모델 보고서\")\n",
    "    try:\n",
    "        print (\"정확도(Accuracy) : %.4g\" % metrics.accuracy_score(df[y_columns].values, df_predictions))\n",
    "    except Exception as e:\n",
    "        pass\n",
    "\n",
    "    try:\n",
    "        print (\"AUC 점수 (Train): %f\" % metrics.roc_auc_score(df[y_columns].values, df_predprob))\n",
    "    except Exception as e:\n",
    "        pass\n",
    "\n",
    "    if performCV:\n",
    "        try:\n",
    "            cv_score = cross_validation.cross_val_score(model, df[X_columns], df[y_columns], cv=cv_folds, scoring='roc_auc')\n",
    "            print (\"교차검증(CV) 점수 : 평균 - %.7g | 표준편차 - %.7g | 최소값 - %.7g | 최대값 - %.7g\" % (np.mean(cv_score),np.std(cv_score),np.min(cv_score),np.max(cv_score)))\n",
    "        except Exception as e:\n",
    "            pass\n",
    "        \n",
    "    try:\n",
    "        if printFeatureImportance:\n",
    "            fig, ax = plt.subplots(1, 1, sharex=True)\n",
    "            feat_imp = pd.Series(model.feature_importances_, X_columns).sort_values(ascending=False)\n",
    "            feat_imp.plot(ax=ax, kind='bar', title='특성(Feature) 중요도')\n",
    "            ax.yaxis.set_major_formatter(percent_formatter)\n",
    "            plt.ylabel('특성(Feature) 중요도 점수')\n",
    "            plt.savefig('특성(Feature) 중요도.png')\n",
    "            plt.show()\n",
    "    except Exception as e:\n",
    "        pass\n",
    "\n",
    "def XGBoost_TuningTest(model, X, y, param_grid=None):\n",
    "    kfold = StratifiedKFold(n_splits=5, shuffle=True, random_state=0)\n",
    "    grid_search = GridSearchCV(model, param_grid, scoring=\"neg_log_loss\", n_jobs=-1, cv=kfold)\n",
    "    grid_result = grid_search.fit(X, y)\n",
    "\n",
    "    print(\"Best: %f using %s\" % (grid_result.best_score_, grid_result.best_params_))\n",
    "    means = grid_result.cv_results_['mean_test_score']\n",
    "    stds = grid_result.cv_results_['std_test_score']\n",
    "    params = grid_result.cv_results_['params']"
   ]
  },
  {
   "cell_type": "markdown",
   "metadata": {
    "deletable": true,
    "editable": true
   },
   "source": [
    "* 일간 가격차를 이용하여 학습 *"
   ]
  },
  {
   "cell_type": "code",
   "execution_count": 21,
   "metadata": {
    "collapsed": false,
    "deletable": true,
    "editable": true
   },
   "outputs": [
    {
     "data": {
      "text/html": [
       "<div>\n",
       "<table border=\"1\" class=\"dataframe\">\n",
       "  <thead>\n",
       "    <tr style=\"text-align: right;\">\n",
       "      <th></th>\n",
       "      <th>시가</th>\n",
       "      <th>고가</th>\n",
       "      <th>저가</th>\n",
       "      <th>종가</th>\n",
       "    </tr>\n",
       "    <tr>\n",
       "      <th>일시</th>\n",
       "      <th></th>\n",
       "      <th></th>\n",
       "      <th></th>\n",
       "      <th></th>\n",
       "    </tr>\n",
       "  </thead>\n",
       "  <tbody>\n",
       "    <tr>\n",
       "      <th>2018-07-11</th>\n",
       "      <td>29515</td>\n",
       "      <td>29635</td>\n",
       "      <td>29280</td>\n",
       "      <td>29560</td>\n",
       "    </tr>\n",
       "    <tr>\n",
       "      <th>2018-07-12</th>\n",
       "      <td>29615</td>\n",
       "      <td>29800</td>\n",
       "      <td>29500</td>\n",
       "      <td>29650</td>\n",
       "    </tr>\n",
       "    <tr>\n",
       "      <th>2018-07-13</th>\n",
       "      <td>29695</td>\n",
       "      <td>30040</td>\n",
       "      <td>29685</td>\n",
       "      <td>29945</td>\n",
       "    </tr>\n",
       "    <tr>\n",
       "      <th>2018-07-16</th>\n",
       "      <td>29975</td>\n",
       "      <td>30050</td>\n",
       "      <td>29825</td>\n",
       "      <td>29855</td>\n",
       "    </tr>\n",
       "    <tr>\n",
       "      <th>2018-07-17</th>\n",
       "      <td>29860</td>\n",
       "      <td>29925</td>\n",
       "      <td>29680</td>\n",
       "      <td>29820</td>\n",
       "    </tr>\n",
       "  </tbody>\n",
       "</table>\n",
       "</div>"
      ],
      "text/plain": [
       "               시가     고가     저가     종가\n",
       "일시                                    \n",
       "2018-07-11  29515  29635  29280  29560\n",
       "2018-07-12  29615  29800  29500  29650\n",
       "2018-07-13  29695  30040  29685  29945\n",
       "2018-07-16  29975  30050  29825  29855\n",
       "2018-07-17  29860  29925  29680  29820"
      ]
     },
     "execution_count": 21,
     "metadata": {},
     "output_type": "execute_result"
    }
   ],
   "source": [
    "# CSV로 저장되어 있는 증권사 HTS 주가 자료는 시간 역순이라, 이것을 바로잡는다.\n",
    "df = pd.read_csv('kodex200.csv', encoding='cp949')\n",
    "df = df.reindex(index=df.index[::-1])\n",
    "df.reset_index(inplace=True)\n",
    "df.set_index('일시', inplace=True)\n",
    "df.drop(['index'], axis=1, inplace=True)\n",
    "\n",
    "df.tail()"
   ]
  },
  {
   "cell_type": "code",
   "execution_count": 23,
   "metadata": {
    "collapsed": true,
    "deletable": true,
    "editable": true
   },
   "outputs": [],
   "source": [
    "X_COLUMNS = []\n",
    "\n",
    "for i in range(1,6):\n",
    "    df['P%d' % i] = df['종가'] - df['종가'].shift(i)\n",
    "    X_COLUMNS.append('P%d' % i)"
   ]
  },
  {
   "cell_type": "code",
   "execution_count": 25,
   "metadata": {
    "collapsed": false,
    "deletable": true,
    "editable": true
   },
   "outputs": [
    {
     "data": {
      "text/html": [
       "<div>\n",
       "<table border=\"1\" class=\"dataframe\">\n",
       "  <thead>\n",
       "    <tr style=\"text-align: right;\">\n",
       "      <th></th>\n",
       "      <th>시가</th>\n",
       "      <th>고가</th>\n",
       "      <th>저가</th>\n",
       "      <th>종가</th>\n",
       "      <th>P1</th>\n",
       "      <th>P2</th>\n",
       "      <th>P3</th>\n",
       "      <th>P4</th>\n",
       "      <th>P5</th>\n",
       "      <th>수익률</th>\n",
       "      <th>y</th>\n",
       "    </tr>\n",
       "    <tr>\n",
       "      <th>일시</th>\n",
       "      <th></th>\n",
       "      <th></th>\n",
       "      <th></th>\n",
       "      <th></th>\n",
       "      <th></th>\n",
       "      <th></th>\n",
       "      <th></th>\n",
       "      <th></th>\n",
       "      <th></th>\n",
       "      <th></th>\n",
       "      <th></th>\n",
       "    </tr>\n",
       "  </thead>\n",
       "  <tbody>\n",
       "    <tr>\n",
       "      <th>2018-07-09</th>\n",
       "      <td>29460</td>\n",
       "      <td>29785</td>\n",
       "      <td>29375</td>\n",
       "      <td>29690</td>\n",
       "      <td>220.0</td>\n",
       "      <td>430.0</td>\n",
       "      <td>360.0</td>\n",
       "      <td>275.0</td>\n",
       "      <td>315.0</td>\n",
       "      <td>-0.002684</td>\n",
       "      <td>0</td>\n",
       "    </tr>\n",
       "    <tr>\n",
       "      <th>2018-07-10</th>\n",
       "      <td>29810</td>\n",
       "      <td>29905</td>\n",
       "      <td>29710</td>\n",
       "      <td>29730</td>\n",
       "      <td>40.0</td>\n",
       "      <td>260.0</td>\n",
       "      <td>470.0</td>\n",
       "      <td>400.0</td>\n",
       "      <td>315.0</td>\n",
       "      <td>0.001525</td>\n",
       "      <td>0</td>\n",
       "    </tr>\n",
       "    <tr>\n",
       "      <th>2018-07-11</th>\n",
       "      <td>29515</td>\n",
       "      <td>29635</td>\n",
       "      <td>29280</td>\n",
       "      <td>29560</td>\n",
       "      <td>-170.0</td>\n",
       "      <td>-130.0</td>\n",
       "      <td>90.0</td>\n",
       "      <td>300.0</td>\n",
       "      <td>230.0</td>\n",
       "      <td>0.001182</td>\n",
       "      <td>0</td>\n",
       "    </tr>\n",
       "    <tr>\n",
       "      <th>2018-07-12</th>\n",
       "      <td>29615</td>\n",
       "      <td>29800</td>\n",
       "      <td>29500</td>\n",
       "      <td>29650</td>\n",
       "      <td>90.0</td>\n",
       "      <td>-80.0</td>\n",
       "      <td>-40.0</td>\n",
       "      <td>180.0</td>\n",
       "      <td>390.0</td>\n",
       "      <td>0.008419</td>\n",
       "      <td>1</td>\n",
       "    </tr>\n",
       "    <tr>\n",
       "      <th>2018-07-13</th>\n",
       "      <td>29695</td>\n",
       "      <td>30040</td>\n",
       "      <td>29685</td>\n",
       "      <td>29945</td>\n",
       "      <td>295.0</td>\n",
       "      <td>385.0</td>\n",
       "      <td>215.0</td>\n",
       "      <td>255.0</td>\n",
       "      <td>475.0</td>\n",
       "      <td>-0.004003</td>\n",
       "      <td>0</td>\n",
       "    </tr>\n",
       "  </tbody>\n",
       "</table>\n",
       "</div>"
      ],
      "text/plain": [
       "               시가     고가     저가     종가     P1     P2     P3     P4     P5  \\\n",
       "일시                                                                          \n",
       "2018-07-09  29460  29785  29375  29690  220.0  430.0  360.0  275.0  315.0   \n",
       "2018-07-10  29810  29905  29710  29730   40.0  260.0  470.0  400.0  315.0   \n",
       "2018-07-11  29515  29635  29280  29560 -170.0 -130.0   90.0  300.0  230.0   \n",
       "2018-07-12  29615  29800  29500  29650   90.0  -80.0  -40.0  180.0  390.0   \n",
       "2018-07-13  29695  30040  29685  29945  295.0  385.0  215.0  255.0  475.0   \n",
       "\n",
       "                 수익률  y  \n",
       "일시                       \n",
       "2018-07-09 -0.002684  0  \n",
       "2018-07-10  0.001525  0  \n",
       "2018-07-11  0.001182  0  \n",
       "2018-07-12  0.008419  1  \n",
       "2018-07-13 -0.004003  0  "
      ]
     },
     "execution_count": 25,
     "metadata": {},
     "output_type": "execute_result"
    }
   ],
   "source": [
    "# df['수익률'] = (df['고가'].shift(-1) - df['시가'].shift(-1)) / df['시가'].shift(-1)\n",
    "df['수익률'] = (df['종가'].shift(-1) - df['시가'].shift(-1)) / df['시가'].shift(-1)\n",
    "df['y'] = df['수익률'].apply(lambda x: 1 if x > 0.003 else 0)\n",
    "df.replace([np.inf, -np.inf], np.nan, inplace=True)\n",
    "df.dropna(inplace=True)\n",
    "\n",
    "df.tail()"
   ]
  },
  {
   "cell_type": "code",
   "execution_count": 26,
   "metadata": {
    "collapsed": false,
    "deletable": true,
    "editable": true
   },
   "outputs": [
    {
     "data": {
      "text/plain": [
       "['P1', 'P2', 'P3', 'P4', 'P5']"
      ]
     },
     "execution_count": 26,
     "metadata": {},
     "output_type": "execute_result"
    }
   ],
   "source": [
    "X_COLUMNS"
   ]
  },
  {
   "cell_type": "code",
   "execution_count": 28,
   "metadata": {
    "collapsed": false,
    "deletable": true,
    "editable": true
   },
   "outputs": [
    {
     "name": "stdout",
     "output_type": "stream",
     "text": [
      "XGBClassifier(base_score=0.5, booster='gbtree', colsample_bylevel=1,\n",
      "       colsample_bytree=1, gamma=0, learning_rate=0.1, max_delta_step=0,\n",
      "       max_depth=3, min_child_weight=1, missing=None, n_estimators=100,\n",
      "       n_jobs=1, nthread=None, objective='binary:logistic', random_state=0,\n",
      "       reg_alpha=0, reg_lambda=1, scale_pos_weight=1, seed=None,\n",
      "       silent=True, subsample=1)\n",
      "\n",
      "모델 보고서\n",
      "정확도(Accuracy) : 0.6783\n",
      "AUC 점수 (Train): 0.732526\n",
      "교차검증(CV) 점수 : 평균 - 0.5086074 | 표준편차 - 0.02626302 | 최소값 - 0.4684048 | 최대값 - 0.5332059\n"
     ]
    },
    {
     "data": {
      "image/png": "[encoded data removed]",
      "text/plain": [
       "<matplotlib.figure.Figure at 0xa367590>"
      ]
     },
     "metadata": {},
     "output_type": "display_data"
    }
   ],
   "source": [
    "X = df[X_COLUMNS].values.tolist()\n",
    "y = df['y'].values.tolist()\n",
    "\n",
    "default_params = {'random_state': 0}\n",
    "model = XGBClassifier(**default_params)\n",
    "\n",
    "XGBoost_Feature(model=model, df=df, X_columns=X_COLUMNS, y_columns='y', performCV=True, printFeatureImportance=True, cv_folds=5)\n"
   ]
  },
  {
   "cell_type": "code",
   "execution_count": 29,
   "metadata": {
    "collapsed": false,
    "deletable": true,
    "editable": true,
    "scrolled": false
   },
   "outputs": [
    {
     "name": "stdout",
     "output_type": "stream",
     "text": [
      "Best: -0.645505 using {'colsample_bylevel': 0.8, 'colsample_bytree': 1.0, 'subsample': 1.0, 'learning_rate': 0.1, 'n_estimators': 30, 'max_depth': 3}\n"
     ]
    }
   ],
   "source": [
    "param_grid = {\n",
    "    'max_depth': range(1, 4, 1),\n",
    "    'learning_rate': [0.0001, 0.001, 0.01, 0.1], \n",
    "    'n_estimators': range(10, 50, 10),\n",
    "    'subsample': [0.8, 1.0],\n",
    "    'colsample_bytree': [0.8, 1.0],\n",
    "    'colsample_bylevel':[0.8, 1.0]\n",
    "}\n",
    "\n",
    "XGBoost_TuningTest(model, X=np.array(X), y=np.array(y), param_grid=param_grid)"
   ]
  },
  {
   "cell_type": "code",
   "execution_count": 30,
   "metadata": {
    "collapsed": false,
    "deletable": true,
    "editable": true
   },
   "outputs": [
    {
     "name": "stdout",
     "output_type": "stream",
     "text": [
      "XGBClassifier(base_score=0.5, booster='gbtree', colsample_bylevel=0.8,\n",
      "       colsample_bytree=1.0, gamma=0, learning_rate=0.1, max_delta_step=0,\n",
      "       max_depth=1, min_child_weight=1, missing=None, n_estimators=30,\n",
      "       n_jobs=1, nthread=None, objective='binary:logistic', random_state=0,\n",
      "       reg_alpha=0, reg_lambda=1, scale_pos_weight=1, seed=None,\n",
      "       silent=True, subsample=0.8)\n",
      "\n",
      "모델 보고서\n",
      "정확도(Accuracy) : 0.6498\n",
      "AUC 점수 (Train): 0.569531\n",
      "교차검증(CV) 점수 : 평균 - 0.5276278 | 표준편차 - 0.03778437 | 최소값 - 0.4803349 | 최대값 - 0.5820961\n"
     ]
    },
    {
     "data": {
      "image/png": "[encoded data removed]",
      "text/plain": [
       "<matplotlib.figure.Figure at 0xa3645f0>"
      ]
     },
     "metadata": {},
     "output_type": "display_data"
    }
   ],
   "source": [
    "tuned_params = {'colsample_bylevel': 0.8, 'colsample_bytree': 1.0, 'learning_rate': 0.1, 'max_depth': 1, 'n_estimators': 30, 'subsample': 0.8, 'random_state': 0}\n",
    "model = XGBClassifier(**tuned_params)\n",
    "XGBoost_Feature(model=model, df=df, X_columns=X_COLUMNS, y_columns='y', performCV=True, printFeatureImportance=True, cv_folds=5)"
   ]
  },
  {
   "cell_type": "markdown",
   "metadata": {
    "deletable": true,
    "editable": true
   },
   "source": [
    "* 기술적 지표를 이용"
   ]
  },
  {
   "cell_type": "code",
   "execution_count": 31,
   "metadata": {
    "collapsed": false,
    "deletable": true,
    "editable": true
   },
   "outputs": [
    {
     "data": {
      "text/html": [
       "<div>\n",
       "<table border=\"1\" class=\"dataframe\">\n",
       "  <thead>\n",
       "    <tr style=\"text-align: right;\">\n",
       "      <th></th>\n",
       "      <th>시가</th>\n",
       "      <th>고가</th>\n",
       "      <th>저가</th>\n",
       "      <th>종가</th>\n",
       "    </tr>\n",
       "    <tr>\n",
       "      <th>일시</th>\n",
       "      <th></th>\n",
       "      <th></th>\n",
       "      <th></th>\n",
       "      <th></th>\n",
       "    </tr>\n",
       "  </thead>\n",
       "  <tbody>\n",
       "    <tr>\n",
       "      <th>2018-07-11</th>\n",
       "      <td>29515</td>\n",
       "      <td>29635</td>\n",
       "      <td>29280</td>\n",
       "      <td>29560</td>\n",
       "    </tr>\n",
       "    <tr>\n",
       "      <th>2018-07-12</th>\n",
       "      <td>29615</td>\n",
       "      <td>29800</td>\n",
       "      <td>29500</td>\n",
       "      <td>29650</td>\n",
       "    </tr>\n",
       "    <tr>\n",
       "      <th>2018-07-13</th>\n",
       "      <td>29695</td>\n",
       "      <td>30040</td>\n",
       "      <td>29685</td>\n",
       "      <td>29945</td>\n",
       "    </tr>\n",
       "    <tr>\n",
       "      <th>2018-07-16</th>\n",
       "      <td>29975</td>\n",
       "      <td>30050</td>\n",
       "      <td>29825</td>\n",
       "      <td>29855</td>\n",
       "    </tr>\n",
       "    <tr>\n",
       "      <th>2018-07-17</th>\n",
       "      <td>29860</td>\n",
       "      <td>29925</td>\n",
       "      <td>29680</td>\n",
       "      <td>29820</td>\n",
       "    </tr>\n",
       "  </tbody>\n",
       "</table>\n",
       "</div>"
      ],
      "text/plain": [
       "               시가     고가     저가     종가\n",
       "일시                                    \n",
       "2018-07-11  29515  29635  29280  29560\n",
       "2018-07-12  29615  29800  29500  29650\n",
       "2018-07-13  29695  30040  29685  29945\n",
       "2018-07-16  29975  30050  29825  29855\n",
       "2018-07-17  29860  29925  29680  29820"
      ]
     },
     "execution_count": 31,
     "metadata": {},
     "output_type": "execute_result"
    }
   ],
   "source": [
    "df = pd.read_csv('kodex200.csv', encoding='cp949')\n",
    "df = df.reindex(index=df.index[::-1])\n",
    "df.reset_index(inplace=True)\n",
    "df.set_index('일시', inplace=True)\n",
    "df.drop(['index'], axis=1, inplace=True)\n",
    "df.tail()"
   ]
  },
  {
   "cell_type": "code",
   "execution_count": 32,
   "metadata": {
    "collapsed": true,
    "deletable": true,
    "editable": true
   },
   "outputs": [],
   "source": [
    "X_COLUMNS = []\n",
    "\n",
    "for i in [2,3,5,10,20,40,60,90,120,240]:\n",
    "    df['EMA%03d' % i] = ta.EMA(np.array(df['종가'].astype(float)), timeperiod=i)\n",
    "    df['이격도%03d' % i] = (df['종가'] - df['EMA%03d' % i]) / df['EMA%03d' % i]\n",
    "    X_COLUMNS.append('이격도%03d' % i)\n",
    "\n",
    "for i in [20, 60, 240]:\n",
    "    df['Bup'], df['Bctr'], df['Bdown'] = ta.BBANDS(np.array(df['종가'].astype(float)), timeperiod=i, nbdevup=2.0, nbdevdn=2.0, matype=ta.MA_Type.EMA)\n",
    "    df['pB%03d' % i] = (df['종가'] - df['Bdown']) / (df['Bup'] - df['Bdown'])\n",
    "    X_COLUMNS.append('pB%03d' % i)\n",
    "\n",
    "for i in [[5,3,3], [7,5,5], [10,6,6], [15,7,7], [20,10,10]]:\n",
    "    df['slowk%03d%03d%03d' % (tuple(i))], df['slowd%03d%03d%03d' % (tuple(i))] = ta.STOCH(np.array(df['고가'].astype(float)), np.array(df['저가'].astype(float)),np.array(df['종가'].astype(float)), \n",
    "    fastk_period=i[0], slowk_period=i[1], slowk_matype=ta.MA_Type.EMA, slowd_period=i[2], slowd_matype=ta.MA_Type.EMA)\n",
    "    X_COLUMNS.append('slowk%03d%03d%03d' % (tuple(i)))\n",
    "    X_COLUMNS.append('slowd%03d%03d%03d' % (tuple(i)))\n",
    "\n",
    "for i in [5,7,10,15,17,20]:\n",
    "    df['LINEARREG%03d' % i] = ta.LINEARREG(np.array(df['종가'].astype(float)),timeperiod=i)\n",
    "    X_COLUMNS.append('LINEARREG%03d' % i)\n",
    "\n",
    "for i in [5,10,20,30,60]:\n",
    "    df['TSF%03d' % i] = ta.TSF(np.array(df['종가'].astype(float)), timeperiod=i)\n",
    "    X_COLUMNS.append('TSF%03d' % i)\n",
    "\n",
    "for i in [3,5,7,10,14]:\n",
    "    df['RSI%02d' % i] = ta.RSI(np.array(df['종가'].astype(float)), timeperiod=i) / 100\n",
    "    X_COLUMNS.append('RSI%02d' % i)\n",
    "\n",
    "for i in range(1,6):\n",
    "    df['R%d' % i] = (df['종가']-df['종가'].shift(i)) / df['종가'].shift(i)\n",
    "    X_COLUMNS.append('R%d' % i)\n",
    "    \n",
    "for i in range(1,6):\n",
    "    df['P%d' % i] = (df['종가'] - df['종가'].rolling(window=5).min().shift(i)) / (df['종가'].rolling(window=5).max().shift(i) - df['종가'].rolling(window=5).min().shift(i))\n",
    "    X_COLUMNS.append('P%d' % i)    "
   ]
  },
  {
   "cell_type": "code",
   "execution_count": 37,
   "metadata": {
    "collapsed": false,
    "deletable": true,
    "editable": true
   },
   "outputs": [
    {
     "data": {
      "text/html": [
       "<div>\n",
       "<table border=\"1\" class=\"dataframe\">\n",
       "  <thead>\n",
       "    <tr style=\"text-align: right;\">\n",
       "      <th></th>\n",
       "      <th>시가</th>\n",
       "      <th>고가</th>\n",
       "      <th>저가</th>\n",
       "      <th>종가</th>\n",
       "      <th>EMA002</th>\n",
       "      <th>이격도002</th>\n",
       "      <th>EMA003</th>\n",
       "      <th>이격도003</th>\n",
       "      <th>EMA005</th>\n",
       "      <th>이격도005</th>\n",
       "      <th>...</th>\n",
       "      <th>R3</th>\n",
       "      <th>R4</th>\n",
       "      <th>R5</th>\n",
       "      <th>P1</th>\n",
       "      <th>P2</th>\n",
       "      <th>P3</th>\n",
       "      <th>P4</th>\n",
       "      <th>P5</th>\n",
       "      <th>수익률</th>\n",
       "      <th>y</th>\n",
       "    </tr>\n",
       "    <tr>\n",
       "      <th>일시</th>\n",
       "      <th></th>\n",
       "      <th></th>\n",
       "      <th></th>\n",
       "      <th></th>\n",
       "      <th></th>\n",
       "      <th></th>\n",
       "      <th></th>\n",
       "      <th></th>\n",
       "      <th></th>\n",
       "      <th></th>\n",
       "      <th></th>\n",
       "      <th></th>\n",
       "      <th></th>\n",
       "      <th></th>\n",
       "      <th></th>\n",
       "      <th></th>\n",
       "      <th></th>\n",
       "      <th></th>\n",
       "      <th></th>\n",
       "      <th></th>\n",
       "      <th></th>\n",
       "    </tr>\n",
       "  </thead>\n",
       "  <tbody>\n",
       "    <tr>\n",
       "      <th>2018-07-06</th>\n",
       "      <td>29250</td>\n",
       "      <td>29605</td>\n",
       "      <td>29130</td>\n",
       "      <td>29470</td>\n",
       "      <td>29413.241564</td>\n",
       "      <td>0.001930</td>\n",
       "      <td>29413.135815</td>\n",
       "      <td>0.001933</td>\n",
       "      <td>29483.368467</td>\n",
       "      <td>-0.000453</td>\n",
       "      <td>...</td>\n",
       "      <td>0.001870</td>\n",
       "      <td>0.003234</td>\n",
       "      <td>-0.019138</td>\n",
       "      <td>0.267516</td>\n",
       "      <td>0.195804</td>\n",
       "      <td>0.108571</td>\n",
       "      <td>0.096447</td>\n",
       "      <td>-1.228916</td>\n",
       "      <td>0.007807</td>\n",
       "      <td>1</td>\n",
       "    </tr>\n",
       "    <tr>\n",
       "      <th>2018-07-09</th>\n",
       "      <td>29460</td>\n",
       "      <td>29785</td>\n",
       "      <td>29375</td>\n",
       "      <td>29690</td>\n",
       "      <td>29597.747188</td>\n",
       "      <td>0.003117</td>\n",
       "      <td>29551.567908</td>\n",
       "      <td>0.004684</td>\n",
       "      <td>29552.245644</td>\n",
       "      <td>0.004661</td>\n",
       "      <td>...</td>\n",
       "      <td>0.012274</td>\n",
       "      <td>0.009349</td>\n",
       "      <td>0.010723</td>\n",
       "      <td>2.047619</td>\n",
       "      <td>0.547771</td>\n",
       "      <td>0.503497</td>\n",
       "      <td>0.360000</td>\n",
       "      <td>0.319797</td>\n",
       "      <td>-0.002684</td>\n",
       "      <td>0</td>\n",
       "    </tr>\n",
       "    <tr>\n",
       "      <th>2018-07-10</th>\n",
       "      <td>29810</td>\n",
       "      <td>29905</td>\n",
       "      <td>29710</td>\n",
       "      <td>29730</td>\n",
       "      <td>29685.915729</td>\n",
       "      <td>0.001485</td>\n",
       "      <td>29640.783954</td>\n",
       "      <td>0.003010</td>\n",
       "      <td>29611.497096</td>\n",
       "      <td>0.004002</td>\n",
       "      <td>...</td>\n",
       "      <td>0.016063</td>\n",
       "      <td>0.013638</td>\n",
       "      <td>0.010709</td>\n",
       "      <td>1.093023</td>\n",
       "      <td>2.238095</td>\n",
       "      <td>0.598726</td>\n",
       "      <td>0.559441</td>\n",
       "      <td>0.405714</td>\n",
       "      <td>0.001525</td>\n",
       "      <td>0</td>\n",
       "    </tr>\n",
       "    <tr>\n",
       "      <th>2018-07-11</th>\n",
       "      <td>29515</td>\n",
       "      <td>29635</td>\n",
       "      <td>29280</td>\n",
       "      <td>29560</td>\n",
       "      <td>29601.971910</td>\n",
       "      <td>-0.001418</td>\n",
       "      <td>29600.391977</td>\n",
       "      <td>-0.001365</td>\n",
       "      <td>29594.331398</td>\n",
       "      <td>-0.001160</td>\n",
       "      <td>...</td>\n",
       "      <td>0.003054</td>\n",
       "      <td>0.010253</td>\n",
       "      <td>0.007842</td>\n",
       "      <td>0.638298</td>\n",
       "      <td>0.697674</td>\n",
       "      <td>1.428571</td>\n",
       "      <td>0.382166</td>\n",
       "      <td>0.321678</td>\n",
       "      <td>0.001182</td>\n",
       "      <td>0</td>\n",
       "    </tr>\n",
       "    <tr>\n",
       "      <th>2018-07-12</th>\n",
       "      <td>29615</td>\n",
       "      <td>29800</td>\n",
       "      <td>29500</td>\n",
       "      <td>29650</td>\n",
       "      <td>29633.990637</td>\n",
       "      <td>0.000540</td>\n",
       "      <td>29625.195988</td>\n",
       "      <td>0.000837</td>\n",
       "      <td>29612.887598</td>\n",
       "      <td>0.001253</td>\n",
       "      <td>...</td>\n",
       "      <td>-0.001347</td>\n",
       "      <td>0.006108</td>\n",
       "      <td>0.013329</td>\n",
       "      <td>0.829787</td>\n",
       "      <td>0.829787</td>\n",
       "      <td>0.906977</td>\n",
       "      <td>1.857143</td>\n",
       "      <td>0.496815</td>\n",
       "      <td>0.008419</td>\n",
       "      <td>1</td>\n",
       "    </tr>\n",
       "  </tbody>\n",
       "</table>\n",
       "<p>5 rows × 68 columns</p>\n",
       "</div>"
      ],
      "text/plain": [
       "               시가     고가     저가     종가        EMA002    이격도002        EMA003  \\\n",
       "일시                                                                             \n",
       "2018-07-06  29250  29605  29130  29470  29413.241564  0.001930  29413.135815   \n",
       "2018-07-09  29460  29785  29375  29690  29597.747188  0.003117  29551.567908   \n",
       "2018-07-10  29810  29905  29710  29730  29685.915729  0.001485  29640.783954   \n",
       "2018-07-11  29515  29635  29280  29560  29601.971910 -0.001418  29600.391977   \n",
       "2018-07-12  29615  29800  29500  29650  29633.990637  0.000540  29625.195988   \n",
       "\n",
       "              이격도003        EMA005    이격도005 ...        R3        R4  \\\n",
       "일시                                           ...                       \n",
       "2018-07-06  0.001933  29483.368467 -0.000453 ...  0.001870  0.003234   \n",
       "2018-07-09  0.004684  29552.245644  0.004661 ...  0.012274  0.009349   \n",
       "2018-07-10  0.003010  29611.497096  0.004002 ...  0.016063  0.013638   \n",
       "2018-07-11 -0.001365  29594.331398 -0.001160 ...  0.003054  0.010253   \n",
       "2018-07-12  0.000837  29612.887598  0.001253 ... -0.001347  0.006108   \n",
       "\n",
       "                  R5        P1        P2        P3        P4        P5  \\\n",
       "일시                                                                       \n",
       "2018-07-06 -0.019138  0.267516  0.195804  0.108571  0.096447 -1.228916   \n",
       "2018-07-09  0.010723  2.047619  0.547771  0.503497  0.360000  0.319797   \n",
       "2018-07-10  0.010709  1.093023  2.238095  0.598726  0.559441  0.405714   \n",
       "2018-07-11  0.007842  0.638298  0.697674  1.428571  0.382166  0.321678   \n",
       "2018-07-12  0.013329  0.829787  0.829787  0.906977  1.857143  0.496815   \n",
       "\n",
       "                 수익률  y  \n",
       "일시                       \n",
       "2018-07-06  0.007807  1  \n",
       "2018-07-09 -0.002684  0  \n",
       "2018-07-10  0.001525  0  \n",
       "2018-07-11  0.001182  0  \n",
       "2018-07-12  0.008419  1  \n",
       "\n",
       "[5 rows x 68 columns]"
      ]
     },
     "execution_count": 37,
     "metadata": {},
     "output_type": "execute_result"
    }
   ],
   "source": [
    "# df['수익률'] = (df['고가'].shift(-1) - df['시가'].shift(-1)) / df['시가'].shift(-1)\n",
    "df['수익률'] = (df['종가'].shift(-1) - df['시가'].shift(-1)) / df['시가'].shift(-1)\n",
    "df['y'] = df['수익률'].apply(lambda x: 1 if x > 0.003 else 0)\n",
    "df.replace([np.inf, -np.inf], np.nan, inplace=True)\n",
    "df.dropna(inplace=True)\n",
    "\n",
    "df.tail()"
   ]
  },
  {
   "cell_type": "code",
   "execution_count": 38,
   "metadata": {
    "collapsed": false,
    "deletable": true,
    "editable": true
   },
   "outputs": [
    {
     "name": "stdout",
     "output_type": "stream",
     "text": [
      "XGBClassifier(base_score=0.5, booster='gbtree', colsample_bylevel=1,\n",
      "       colsample_bytree=1, gamma=0, learning_rate=0.1, max_delta_step=0,\n",
      "       max_depth=3, min_child_weight=1, missing=None, n_estimators=100,\n",
      "       n_jobs=1, nthread=None, objective='binary:logistic', random_state=0,\n",
      "       reg_alpha=0, reg_lambda=1, scale_pos_weight=1, seed=None,\n",
      "       silent=True, subsample=1)\n",
      "\n",
      "모델 보고서\n",
      "정확도(Accuracy) : 0.7331\n",
      "AUC 점수 (Train): 0.809186\n",
      "교차검증(CV) 점수 : 평균 - 0.4044279 | 표준편차 - 0.1307802 | 최소값 - 0.2484292 | 최대값 - 0.5931589\n"
     ]
    },
    {
     "data": {
      "image/png": "[encoded data removed]",
      "text/plain": [
       "<matplotlib.figure.Figure at 0xa2a2470>"
      ]
     },
     "metadata": {},
     "output_type": "display_data"
    }
   ],
   "source": [
    "X = df[X_COLUMNS].values.tolist()\n",
    "y = df['y'].values.tolist()\n",
    "\n",
    "default_params = {'random_state': 0}\n",
    "model = XGBClassifier(**default_params)\n",
    "\n",
    "matplotlib.rcParams['figure.figsize'] = [20, 10]\n",
    "XGBoost_Feature(model=model, df=df, X_columns=X_COLUMNS, y_columns='y', performCV=True, printFeatureImportance=True, cv_folds=5)"
   ]
  },
  {
   "cell_type": "code",
   "execution_count": null,
   "metadata": {
    "collapsed": true,
    "deletable": true,
    "editable": true
   },
   "outputs": [],
   "source": []
  },
  {
   "cell_type": "code",
   "execution_count": null,
   "metadata": {
    "collapsed": true
   },
   "outputs": [],
   "source": []
  }
 ],
 "metadata": {
  "kernelspec": {
   "display_name": "Python [default]",
   "language": "python",
   "name": "python3"
  },
  "language_info": {
   "codemirror_mode": {
    "name": "ipython",
    "version": 3
   },
   "file_extension": ".py",
   "mimetype": "text/x-python",
   "name": "python",
   "nbconvert_exporter": "python",
   "pygments_lexer": "ipython3",
   "version": "3.5.2"
  }
 },
 "nbformat": 4,
 "nbformat_minor": 2
}
