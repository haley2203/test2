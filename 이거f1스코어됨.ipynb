{
 "cells": [
  {
   "cell_type": "markdown",
   "metadata": {},
   "source": [
    "# XGBOOST \n",
    "설명 : https://www.youtube.com/watch?v=Dhwmd_IyW3g"
   ]
  },
  {
   "cell_type": "markdown",
   "metadata": {},
   "source": [
    "# 1. 파이썬 library 불러오기 "
   ]
  },
  {
   "cell_type": "code",
   "execution_count": 1,
   "metadata": {
    "collapsed": true
   },
   "outputs": [],
   "source": [
    "# Python libraries\n",
    "import pandas as pd\n",
    "import numpy as np\n",
    "import seaborn as sns\n",
    "import matplotlib.pyplot as plt\n",
    "%matplotlib inline\n",
    "import itertools\n",
    "import xgboost as xgb\n",
    "from sklearn.linear_model import LogisticRegression\n",
    "from sklearn.ensemble import RandomForestClassifier, VotingClassifier\n",
    "from sklearn.model_selection import StratifiedKFold\n",
    "from sklearn.metrics import precision_score, recall_score, confusion_matrix, classification_report, roc_curve, precision_recall_curve\n",
    "import warnings"
   ]
  },
  {
   "cell_type": "markdown",
   "metadata": {},
   "source": [
    "# 2. 데이터 불러오기 "
   ]
  },
  {
   "cell_type": "code",
   "execution_count": 1,
   "metadata": {},
   "outputs": [
    {
     "ename": "NameError",
     "evalue": "name 'pd' is not defined",
     "traceback": [
      "\u001b[1;31m---------------------------------------------------------------------------\u001b[0m",
      "\u001b[1;31mNameError\u001b[0m                                 Traceback (most recent call last)",
      "\u001b[1;32m<ipython-input-1-1357b9fbacef>\u001b[0m in \u001b[0;36m<module>\u001b[1;34m()\u001b[0m\n\u001b[0;32m      1\u001b[0m \u001b[1;31m# 데이터 로딩하기\u001b[0m\u001b[1;33m\u001b[0m\u001b[1;33m\u001b[0m\u001b[0m\n\u001b[0;32m      2\u001b[0m \u001b[1;31m# n_ay1합쳐놓은 파일에서 1열을 삭제하고 로딩함 = 1열 무의미해서...\u001b[0m\u001b[1;33m\u001b[0m\u001b[1;33m\u001b[0m\u001b[0m\n\u001b[1;32m----> 3\u001b[1;33m \u001b[0mtrain\u001b[0m \u001b[1;33m=\u001b[0m \u001b[0mpd\u001b[0m\u001b[1;33m.\u001b[0m\u001b[0mread_csv\u001b[0m\u001b[1;33m(\u001b[0m\u001b[1;34m\"C:/Users/kimjimin/Desktop/bcbc/n_ay1/n_ay1.csv\"\u001b[0m\u001b[1;33m)\u001b[0m\u001b[1;33m\u001b[0m\u001b[0m\n\u001b[0m\u001b[0;32m      4\u001b[0m \u001b[0mtest\u001b[0m \u001b[1;33m=\u001b[0m \u001b[0mpd\u001b[0m\u001b[1;33m.\u001b[0m\u001b[0mread_csv\u001b[0m\u001b[1;33m(\u001b[0m\u001b[1;34m\"C:/Users/kimjimin/Desktop/bcbc/champion_data/test/test_activity.csv\"\u001b[0m\u001b[1;33m)\u001b[0m\u001b[1;33m\u001b[0m\u001b[0m\n\u001b[0;32m      5\u001b[0m \u001b[0mtrain\u001b[0m\u001b[1;33m.\u001b[0m\u001b[0mshape\u001b[0m\u001b[1;33m,\u001b[0m \u001b[0mtest\u001b[0m\u001b[1;33m.\u001b[0m\u001b[0mshape\u001b[0m \u001b[1;31m#train,test의 행과열 감상\u001b[0m\u001b[1;33m\u001b[0m\u001b[0m\n",
      "\u001b[1;31mNameError\u001b[0m: name 'pd' is not defined"
     ],
     "output_type": "error"
    }
   ],
   "source": [
    "# 데이터 로딩하기\n",
    "# n_ay1합쳐놓은 파일에서 1열을 삭제하고 로딩함 = 1열 무의미해서...\n",
    "train = pd.read_csv(\"C:/Users/kimjimin/Desktop/bcbc/n_ay1/n_ay1.csv\")\n",
    "test = pd.read_csv(\"C:/Users/kimjimin/Desktop/bcbc/champion_data/test/test_activity.csv\")\n",
    "train.shape, test.shape #train,test의 행과열 감상 "
   ]
  },
  {
   "cell_type": "code",
   "execution_count": 3,
   "metadata": {
    "collapsed": true
   },
   "outputs": [],
   "source": [
    "warnings.filterwarnings('ignore') #ignore warning messages "
   ]
  },
  {
   "cell_type": "code",
   "execution_count": 4,
   "metadata": {
    "scrolled": false
   },
   "outputs": [
    {
     "data": {
      "text/plain": [
       "Index(['wk', 'acc_id', 'cnt_dt', 'play_time', 'npc_exp', 'npc_hongmun',\n",
       "       'quest_exp', 'quest_hongmun', 'item_hongmun', 'game_combat_time',\n",
       "       'get_money', 'duel_cnt', 'duel_win', 'partybattle_cnt',\n",
       "       'partybattle_win', 'cnt_enter_inzone_solo', 'cnt_enter_inzone_light',\n",
       "       'cnt_enter_inzone_skilled', 'cnt_enter_inzone_normal', 'cnt_enter_raid',\n",
       "       'cnt_enter_raid_light', 'cnt_enter_bam', 'cnt_clear_inzone_solo',\n",
       "       'cnt_clear_inzone_light', 'cnt_clear_inzone_skilled',\n",
       "       'cnt_clear_inzone_normal', 'cnt_clear_raid', 'cnt_clear_raid_light',\n",
       "       'cnt_clear_bam', 'normal_chat', 'whisper_chat', 'district_chat',\n",
       "       'party_chat', 'guild_chat', 'faction_chat', 'cnt_use_buffitem',\n",
       "       'gathering_cnt', 'making_cnt', 'label'],\n",
       "      dtype='object')"
      ]
     },
     "execution_count": 4,
     "metadata": {},
     "output_type": "execute_result"
    }
   ],
   "source": [
    "train.columns # 데이터 살펴보기"
   ]
  },
  {
   "cell_type": "code",
   "execution_count": 5,
   "metadata": {},
   "outputs": [
    {
     "data": {
      "text/plain": [
       "Index(['wk', 'acc_id', 'cnt_dt', 'play_time', 'npc_exp', 'npc_hongmun',\n",
       "       'quest_exp', 'quest_hongmun', 'item_hongmun', 'game_combat_time',\n",
       "       'get_money', 'duel_cnt', 'duel_win', 'partybattle_cnt',\n",
       "       'partybattle_win', 'cnt_enter_inzone_solo', 'cnt_enter_inzone_light',\n",
       "       'cnt_enter_inzone_skilled', 'cnt_enter_inzone_normal', 'cnt_enter_raid',\n",
       "       'cnt_enter_raid_light', 'cnt_enter_bam', 'cnt_clear_inzone_solo',\n",
       "       'cnt_clear_inzone_light', 'cnt_clear_inzone_skilled',\n",
       "       'cnt_clear_inzone_normal', 'cnt_clear_raid', 'cnt_clear_raid_light',\n",
       "       'cnt_clear_bam', 'normal_chat', 'whisper_chat', 'district_chat',\n",
       "       'party_chat', 'guild_chat', 'faction_chat', 'cnt_use_buffitem',\n",
       "       'gathering_cnt', 'making_cnt'],\n",
       "      dtype='object')"
      ]
     },
     "execution_count": 5,
     "metadata": {},
     "output_type": "execute_result"
    }
   ],
   "source": [
    "test.columns # 데이터 살펴보기 "
   ]
  },
  {
   "cell_type": "code",
   "execution_count": 2,
   "metadata": {
    "collapsed": true
   },
   "outputs": [
    {
     "ename": "NameError",
     "evalue": "name 'train' is not defined",
     "traceback": [
      "\u001b[1;31m---------------------------------------------------------------------------\u001b[0m",
      "\u001b[1;31mNameError\u001b[0m                                 Traceback (most recent call last)",
      "\u001b[1;32m<ipython-input-2-fe4171c7f22b>\u001b[0m in \u001b[0;36m<module>\u001b[1;34m()\u001b[0m\n\u001b[0;32m      1\u001b[0m \u001b[1;31m# train, test셋의 ID는 index로 만든 뒤 컬럼에선 제거합니다.\u001b[0m\u001b[1;33m\u001b[0m\u001b[1;33m\u001b[0m\u001b[0m\n\u001b[1;32m----> 2\u001b[1;33m \u001b[0mtrain\u001b[0m\u001b[1;33m.\u001b[0m\u001b[0mindex\u001b[0m \u001b[1;33m=\u001b[0m \u001b[0mtrain\u001b[0m\u001b[1;33m.\u001b[0m\u001b[0macc_id\u001b[0m\u001b[1;33m\u001b[0m\u001b[0m\n\u001b[0m\u001b[0;32m      3\u001b[0m \u001b[0mtest\u001b[0m\u001b[1;33m.\u001b[0m\u001b[0mindex\u001b[0m \u001b[1;33m=\u001b[0m \u001b[0mtest\u001b[0m\u001b[1;33m.\u001b[0m\u001b[0macc_id\u001b[0m\u001b[1;33m\u001b[0m\u001b[0m\n\u001b[0;32m      4\u001b[0m \u001b[0mtrain\u001b[0m\u001b[1;33m.\u001b[0m\u001b[0mdrop\u001b[0m\u001b[1;33m(\u001b[0m\u001b[1;34m\"acc_id\"\u001b[0m\u001b[1;33m,\u001b[0m \u001b[0maxis\u001b[0m\u001b[1;33m=\u001b[0m\u001b[1;36m1\u001b[0m\u001b[1;33m,\u001b[0m \u001b[0minplace\u001b[0m\u001b[1;33m=\u001b[0m\u001b[1;32mTrue\u001b[0m\u001b[1;33m)\u001b[0m\u001b[1;33m\u001b[0m\u001b[0m\n\u001b[0;32m      5\u001b[0m \u001b[0mtest\u001b[0m\u001b[1;33m.\u001b[0m\u001b[0mdrop\u001b[0m\u001b[1;33m(\u001b[0m\u001b[1;34m\"acc_id\"\u001b[0m\u001b[1;33m,\u001b[0m \u001b[0maxis\u001b[0m\u001b[1;33m=\u001b[0m\u001b[1;36m1\u001b[0m\u001b[1;33m,\u001b[0m \u001b[0minplace\u001b[0m\u001b[1;33m=\u001b[0m\u001b[1;32mTrue\u001b[0m\u001b[1;33m)\u001b[0m\u001b[1;33m\u001b[0m\u001b[0m\n",
      "\u001b[1;31mNameError\u001b[0m: name 'train' is not defined"
     ],
     "output_type": "error"
    }
   ],
   "source": [
    "# train, test셋의 ID는 index로 만든 뒤 컬럼에선 제거합니다.\n",
    "train.index = train.acc_id\n",
    "test.index = test.acc_id\n",
    "train.drop(\"acc_id\", axis=1, inplace=True)\n",
    "test.drop(\"acc_id\", axis=1, inplace=True)"
   ]
  },
  {
   "cell_type": "markdown",
   "metadata": {},
   "source": [
    "##인덱스처리 이유.... 궁금하다 \n",
    "\n",
    "인덱스 말그대로 목차를 말하는 것이다.\n",
    "데이터베이스 즉 데이터를 저장하는 장소인데 우리가 데이터를 막 저장했는데 \n",
    "왜 저장할까? 바로 거기서 찾아서 쓸려고 하는 것이다.\n",
    "즉 정보검색을 위해서 우리는 여러가지 방법이 있는 그냥 순서대로 일일히 비교해서 검색하는 방법과\n",
    "두번쨰로 색인 즉 인덱스를 남겨서 그걸 비교하면서 찾는 방법이 있다.\n",
    "어느 것이 더 빠를 것인가? 당연히 인덱스를 남겨서 찾는 부분이 더 빠르다."
   ]
  },
  {
   "cell_type": "code",
   "execution_count": 7,
   "metadata": {
    "scrolled": false
   },
   "outputs": [
    {
     "data": {
      "text/plain": [
       "retained    167110\n",
       "2month       98642\n",
       "month        97473\n",
       "week         77098\n",
       "Name: label, dtype: int64"
      ]
     },
     "execution_count": 7,
     "metadata": {},
     "output_type": "execute_result"
    }
   ],
   "source": [
    "train['label'].value_counts() # label이 어떻게 생겼는지 감상 "
   ]
  },
  {
   "cell_type": "markdown",
   "metadata": {},
   "source": [
    "# one-hot-encoding\n",
    "데이터에는 수치형 데이터와 텍스트 데이터나 범주형 데이터가 있다. \n",
    "머신러닝이나 딥러닝 알고리즘은 수치로 된 데이터만 이해할 수 있다.\n",
    "그래서 기계가 이해할 수 있는 형태로 데이터를 변환해 주어야 하는데 범주형 데이터는 원핫인코딩 형태로 변환해 준다.\n",
    "원핫인코딩이란 해당되는 하나의 데이터만 1로 변경해 주고 나머지는 0으로 채워주는 것을 뜻한다.\n",
    "\n",
    "one-hot-encoding-1은 4가지 이탈기준을 01로 구분한것이고\n",
    "one-hot-encoding-2는 이탈과 비이탈기준으로 01을 구분한것이다. \n",
    "분석력이 더 좋게 위해서 one-hot-encoding-2 를 사용하여 돌리기로 한다. \n",
    "BUT! 현재 코드는 0,1의 비율이 맞지 않는데 (=한쪽으로 너무 쏠림)\n",
    "샘플 추출시 이거 해결하는 코드가 있다고 함 "
   ]
  },
  {
   "cell_type": "code",
   "execution_count": 8,
   "metadata": {
    "collapsed": true
   },
   "outputs": [],
   "source": [
    "## one-hor-encoding-1\n",
    "## pd.get_dummies로 One-hot 인코딩\n",
    "#label_one_hot_encoded = pd.get_dummies(train.label) \n",
    "\n",
    "## 원래 데이터와 비교식으로 보여주기용 데이터프레임\n",
    "#label_with_onehot = pd.concat(\n",
    "#\t[DataFrame(train.label), label_one_hot_encoded],\n",
    "#\taxis=1) \n",
    "#label_with_onehot.head(10)"
   ]
  },
  {
   "cell_type": "code",
   "execution_count": 9,
   "metadata": {},
   "outputs": [
    {
     "data": {
      "text/plain": [
       "1    273213\n",
       "0    167110\n",
       "Name: label, dtype: int64"
      ]
     },
     "execution_count": 9,
     "metadata": {},
     "output_type": "execute_result"
    }
   ],
   "source": [
    "#one-hot-encoding-2\n",
    "train.loc[train[\"label\"] == \"retained\", \"label\"] = 0\n",
    "train.loc[train[\"label\"] == \"2month\", \"label\"] = 1\n",
    "train.loc[train[\"label\"] == \"month\", \"label\"] = 1\n",
    "train.loc[train[\"label\"] == \"week\", \"label\"] = 1\n",
    "train['label'].value_counts() #0과 1의 갯수 확인 "
   ]
  },
  {
   "cell_type": "code",
   "execution_count": 10,
   "metadata": {},
   "outputs": [
    {
     "data": {
      "text/plain": [
       "((440323, 37), (175631, 37))"
      ]
     },
     "execution_count": 10,
     "metadata": {},
     "output_type": "execute_result"
    }
   ],
   "source": [
    "#그리고 train셋의 TARGET 컬럼은 별도로 분류합니다.\n",
    "# TARGET컬럼 만들기 #label 타겟처리\n",
    "y = train.label\n",
    "train = train.iloc[:,:-1]\n",
    "train.shape, test.shape #train,test의 행과열 감상 "
   ]
  },
  {
   "cell_type": "code",
   "execution_count": 11,
   "metadata": {},
   "outputs": [
    {
     "data": {
      "text/plain": [
       "Types\n",
       "int64       2\n",
       "float64    35\n",
       "dtype: int64"
      ]
     },
     "execution_count": 11,
     "metadata": {},
     "output_type": "execute_result"
    }
   ],
   "source": [
    "#### 여기 잘 이해 안감 ㅜ \n",
    "# 데이터를 간단히 살펴보도록 하겠습니다.\n",
    "# 우선 데이터 타입먼저 확인해보겠습니다. 모두 수치형 데이터인 것을 알 수 있습니다.\n",
    "# 별도의 Ont-Hot-Encoding은 필요하지 않은 것으로 보입니다.\n",
    "# (물론 수치형 데이터이지만 명목형 변수와 다름없어서 One-Hot-Encode해야하는 경우도 있겠지만\n",
    "# 컬럼의 의미를 모르는 상태에서는 확인이 어렵습니다. 우선 모두 수치로 처리합니다)\n",
    "from pandas import DataFrame\n",
    "types = DataFrame(train.dtypes).reset_index()\n",
    "types.columns = [\"Features\",\"Types\"]\n",
    "types.groupby(\"Types\").size()"
   ]
  },
  {
   "cell_type": "code",
   "execution_count": 12,
   "metadata": {},
   "outputs": [
    {
     "data": {
      "text/plain": [
       "((440323, 37), (175631, 37))"
      ]
     },
     "execution_count": 12,
     "metadata": {},
     "output_type": "execute_result"
    }
   ],
   "source": [
    "#### 여기는 이거 실행하면 안되는것 아닌가 싶은데 실행시켜도 변화 없음 ㅋㅋㅋ\n",
    "#혹시 모를 경우를 대비한 데이터 전처리를 수행합니다.\n",
    "#모든 컬럼값이 동일한 케이스, 즉 실질적으로 constant인 컬럼이 있을 수 있습니다.\n",
    "#해당 컬럼들을 확인, 미리 제거합니다.\n",
    "\n",
    "train = train.loc[:,train.apply(lambda x:len(x.unique()))>1]\n",
    "test = test.loc[:,test.apply(lambda x:len(x.unique()))>1]\n",
    "train.shape, test.shape #train,test의 행과열 감상 "
   ]
  },
  {
   "cell_type": "markdown",
   "metadata": {},
   "source": [
    "constant인 컬럼 이 뭘 까? "
   ]
  },
  {
   "cell_type": "code",
   "execution_count": 13,
   "metadata": {},
   "outputs": [
    {
     "data": {
      "text/plain": [
       "((440323, 37), (175631, 37))"
      ]
     },
     "execution_count": 13,
     "metadata": {},
     "output_type": "execute_result"
    }
   ],
   "source": [
    "#제거한 결과, train셋에서는 constant가 아니었지만 \n",
    "#(=1개 이상의 값이 있었지만) test 셋에서는 constant인 케이스가 있습니다. \n",
    "#이 결과 test셋에서 11개의 feature가 더 제거된 것을 알 수 있습니다. \n",
    "#test 셋에서 constant라면 train셋에서 학습하는 것이 의미가 없습니다. \n",
    "#train 셋의 컬럼을 test의 컬럼과 동일하게 만들어줍니다.\n",
    "\n",
    "# test컬럼에는 없지만 train에만 있는 컬럼 제거하기 -> 전처리임 \n",
    "testCols = test.columns\n",
    "train = train[testCols]\n",
    "train.shape, test.shape"
   ]
  },
  {
   "cell_type": "code",
   "execution_count": 14,
   "metadata": {
    "collapsed": true
   },
   "outputs": [],
   "source": [
    "#Recall, Precision and F1_score\n",
    "def show_metrics():\n",
    "    tp = cm[1,1]\n",
    "    fn = cm[1,0]\n",
    "    fp = cm[0,1]\n",
    "    tn = cm[0,0]\n",
    "    print('Precision =     {:.3f}'.format(tp/(tp+fp)))\n",
    "    print('Recall    =     {:.3f}'.format(tp/(tp+fn)))\n",
    "    print('F1_score  =     {:.3f}'.format(2*(((tp/(tp+fp))*(tp/(tp+fn)))/\n",
    "                                                 ((tp/(tp+fp))+(tp/(tp+fn))))))"
   ]
  },
  {
   "cell_type": "markdown",
   "metadata": {},
   "source": [
    "# 튜닝 설명 \n",
    "#n_estimators\n",
    " - 몇번이나 모델링을 할 것인지 주기를 결정한다.\n",
    " - underfitting- traing data와 new data에 대해 예측이 떨어짐\n",
    " - overfitting- traing data에 대해서는 정확하지만 새 데이터에 대해 오히려 부정확한 결과를 낳음.\n",
    " - 일반적으로 100-1000이 적합한 learning rate다.\n",
    "\n",
    "#learning_rate\n",
    " - 이전트리의 오차를 보정하는 정도를 조절 \n",
    " - n_estimators와 매우 연관되며 learning_rate를 낮추면 비슷한 복잡도의 모델을 만들기 위해서더 많은 트리를 추가해야한다. n_estimators가 클수록 좋은 랜덤 포레스트와는 달리 그래디언트부스팅에서 n_estimators를 크게하면 모델이 복잡해지고 과대적합될 가능성이 높아진다. \n",
    " - 일반적인 관례는 가용한 시간과 메모리 한도에서 n_estimators를 맞추고 나서 적절한 \n",
    "learning_rate를 찾는 것이다. \n",
    "\n",
    "#max_depth [default=6] (Should be tuned using CV) \n",
    " - 트리의 최대 깊이.\n",
    " - 일반적으로 3-10\n",
    " - 트리의 복잡도를 낮추는 명령어이다. 통상 그래디언트 부스팅 모델에서는 max_depth를 매우 작게 설정하며 트리의 깊이가 5보다 깊어지지 않게 한다.\n",
    "    \n",
    "#subsample [default=1]\n",
    "   - 각 트리마다의 관측 데이터 샘플링 비율.\n",
    "   - 값을 적게 주면 over-fitting을 방지하지만 값을 너무 작게 주면 under-fitting.\n",
    "   - 일반적으로 0.5-1\n",
    "    \n",
    "#colsample_bytree [default=1]\n",
    "   - 각 트리마다의 feature 샘플링 비율.\n",
    "   - 일반적으로 0.5-1\n",
    "\n",
    "#objective [default=reg:linear]\n",
    "   - binary:logistic : 이진 분류를 위한 로지스틱 회귀, 예측된 확률을 반환한다. (not class)\n",
    "   - multi:softmax : softmax를 사용한 다중 클래스 분류, 예측된 클래스를 반환한다. (not probabilities)\n",
    "   - multi:softprob : softmax와 같지만 각 클래스에 대한 예상 확률을 반환한다.\n",
    "        \n",
    "#eval_metric [default according to objective]\n",
    "   - 회귀 분석인 경우 'rmse'를, 클래스 분류 문제인 경우 'error'를 default로 사용.\n",
    "   - rmse : root mean square error 제곱 평균 제곱근 오차\n",
    "   - mae : mean absolute error 절대 오차\n",
    "   - logloss : negative log-likelihood 음수 대수 (log-likelihood)\n",
    "   - error : Binary classification error rate (0.5 threshold)이진 분류 오류율 (0.5 임계 값)\n",
    "   - merror : Multiclass classification error rate 멀티 클래스 분류 오류율\n",
    "   - mlogloss : Multiclass logloss 멀티 클래스 로그 손실\n",
    "   - auc : Area under the curve 곡선 아래 영역"
   ]
  },
  {
   "cell_type": "markdown",
   "metadata": {},
   "source": [
    "# 테쓰또 F1 스코어하는방법 "
   ]
  },
  {
   "cell_type": "code",
   "execution_count": null,
   "metadata": {
    "collapsed": true
   },
   "outputs": [],
   "source": [
    "###########################################"
   ]
  },
  {
   "cell_type": "code",
   "execution_count": 15,
   "metadata": {
    "collapsed": true
   },
   "outputs": [],
   "source": [
    "from sklearn.cross_validation import train_test_split\n",
    "x_train, x_test, y_train, y_test = train_test_split(train, y, test_size = 0.20, random_state = 0)\n",
    "eval_set = [(x_train, y_train), (x_test,y_test)]"
   ]
  },
  {
   "cell_type": "code",
   "execution_count": 16,
   "metadata": {
    "collapsed": true
   },
   "outputs": [],
   "source": [
    "xgboost = xgb.XGBClassifier(objective=\"binary:logistic\",min_child_weight=1, max_depth=5, learning_rate=.1, \n",
    "                            n_estimators=100, n_jobs=-1,gamma=0, nthread=3, scale_pos_weight=1, seed=27)"
   ]
  },
  {
   "cell_type": "code",
   "execution_count": 17,
   "metadata": {},
   "outputs": [
    {
     "name": "stdout",
     "output_type": "stream",
     "text": [
      "[0]\tvalidation_0-auc:0.835508\tvalidation_1-auc:0.836366\n",
      "Multiple eval metrics have been passed: 'validation_1-auc' will be used for early stopping.\n",
      "\n",
      "Will train until validation_1-auc hasn't improved in 25 rounds.\n",
      "[1]\tvalidation_0-auc:0.848136\tvalidation_1-auc:0.848579\n",
      "[2]\tvalidation_0-auc:0.84898\tvalidation_1-auc:0.849159\n",
      "[3]\tvalidation_0-auc:0.85121\tvalidation_1-auc:0.85139\n",
      "[4]\tvalidation_0-auc:0.851436\tvalidation_1-auc:0.851516\n",
      "[5]\tvalidation_0-auc:0.85436\tvalidation_1-auc:0.853686\n",
      "[6]\tvalidation_0-auc:0.855643\tvalidation_1-auc:0.855131\n",
      "[7]\tvalidation_0-auc:0.855558\tvalidation_1-auc:0.854896\n",
      "[8]\tvalidation_0-auc:0.856286\tvalidation_1-auc:0.855684\n",
      "[9]\tvalidation_0-auc:0.858358\tvalidation_1-auc:0.857746\n",
      "[10]\tvalidation_0-auc:0.858717\tvalidation_1-auc:0.858374\n",
      "[11]\tvalidation_0-auc:0.863172\tvalidation_1-auc:0.863014\n",
      "[12]\tvalidation_0-auc:0.865056\tvalidation_1-auc:0.864935\n",
      "[13]\tvalidation_0-auc:0.865344\tvalidation_1-auc:0.865225\n",
      "[14]\tvalidation_0-auc:0.866872\tvalidation_1-auc:0.866586\n",
      "[15]\tvalidation_0-auc:0.867533\tvalidation_1-auc:0.867227\n",
      "[16]\tvalidation_0-auc:0.868822\tvalidation_1-auc:0.868471\n",
      "[17]\tvalidation_0-auc:0.869705\tvalidation_1-auc:0.869264\n",
      "[18]\tvalidation_0-auc:0.870239\tvalidation_1-auc:0.869705\n",
      "[19]\tvalidation_0-auc:0.870826\tvalidation_1-auc:0.87029\n",
      "[20]\tvalidation_0-auc:0.871427\tvalidation_1-auc:0.87088\n",
      "[21]\tvalidation_0-auc:0.872027\tvalidation_1-auc:0.871543\n",
      "[22]\tvalidation_0-auc:0.872421\tvalidation_1-auc:0.871928\n",
      "[23]\tvalidation_0-auc:0.873065\tvalidation_1-auc:0.872523\n",
      "[24]\tvalidation_0-auc:0.873598\tvalidation_1-auc:0.873012\n",
      "[25]\tvalidation_0-auc:0.874184\tvalidation_1-auc:0.873645\n",
      "[26]\tvalidation_0-auc:0.87445\tvalidation_1-auc:0.873818\n",
      "[27]\tvalidation_0-auc:0.874918\tvalidation_1-auc:0.87429\n",
      "[28]\tvalidation_0-auc:0.87526\tvalidation_1-auc:0.874491\n",
      "[29]\tvalidation_0-auc:0.875781\tvalidation_1-auc:0.875007\n",
      "[30]\tvalidation_0-auc:0.875993\tvalidation_1-auc:0.875222\n",
      "[31]\tvalidation_0-auc:0.876283\tvalidation_1-auc:0.875504\n",
      "[32]\tvalidation_0-auc:0.876533\tvalidation_1-auc:0.875704\n",
      "[33]\tvalidation_0-auc:0.876843\tvalidation_1-auc:0.875982\n",
      "[34]\tvalidation_0-auc:0.877227\tvalidation_1-auc:0.876344\n",
      "[35]\tvalidation_0-auc:0.877742\tvalidation_1-auc:0.876793\n",
      "[36]\tvalidation_0-auc:0.878127\tvalidation_1-auc:0.877166\n",
      "[37]\tvalidation_0-auc:0.878398\tvalidation_1-auc:0.877454\n",
      "[38]\tvalidation_0-auc:0.878744\tvalidation_1-auc:0.877758\n",
      "[39]\tvalidation_0-auc:0.878924\tvalidation_1-auc:0.877894\n",
      "[40]\tvalidation_0-auc:0.879454\tvalidation_1-auc:0.878394\n",
      "[41]\tvalidation_0-auc:0.879648\tvalidation_1-auc:0.878537\n",
      "[42]\tvalidation_0-auc:0.880333\tvalidation_1-auc:0.87925\n",
      "[43]\tvalidation_0-auc:0.880533\tvalidation_1-auc:0.879466\n",
      "[44]\tvalidation_0-auc:0.880665\tvalidation_1-auc:0.879592\n",
      "[45]\tvalidation_0-auc:0.880856\tvalidation_1-auc:0.879764\n",
      "[46]\tvalidation_0-auc:0.880969\tvalidation_1-auc:0.879841\n",
      "[47]\tvalidation_0-auc:0.881143\tvalidation_1-auc:0.880035\n",
      "[48]\tvalidation_0-auc:0.881326\tvalidation_1-auc:0.880205\n",
      "[49]\tvalidation_0-auc:0.881518\tvalidation_1-auc:0.880373\n",
      "[50]\tvalidation_0-auc:0.882177\tvalidation_1-auc:0.881049\n",
      "[51]\tvalidation_0-auc:0.882386\tvalidation_1-auc:0.881245\n",
      "[52]\tvalidation_0-auc:0.882523\tvalidation_1-auc:0.881391\n",
      "[53]\tvalidation_0-auc:0.882664\tvalidation_1-auc:0.881488\n",
      "[54]\tvalidation_0-auc:0.882996\tvalidation_1-auc:0.881772\n",
      "[55]\tvalidation_0-auc:0.883049\tvalidation_1-auc:0.881824\n",
      "[56]\tvalidation_0-auc:0.88317\tvalidation_1-auc:0.881942\n",
      "[57]\tvalidation_0-auc:0.883472\tvalidation_1-auc:0.882207\n",
      "[58]\tvalidation_0-auc:0.883673\tvalidation_1-auc:0.882416\n",
      "[59]\tvalidation_0-auc:0.883896\tvalidation_1-auc:0.882616\n",
      "[60]\tvalidation_0-auc:0.884069\tvalidation_1-auc:0.882759\n",
      "[61]\tvalidation_0-auc:0.884373\tvalidation_1-auc:0.883085\n",
      "[62]\tvalidation_0-auc:0.884443\tvalidation_1-auc:0.883144\n",
      "[63]\tvalidation_0-auc:0.884557\tvalidation_1-auc:0.88324\n",
      "[64]\tvalidation_0-auc:0.884601\tvalidation_1-auc:0.883283\n",
      "[65]\tvalidation_0-auc:0.884848\tvalidation_1-auc:0.883528\n",
      "[66]\tvalidation_0-auc:0.885002\tvalidation_1-auc:0.883687\n",
      "[67]\tvalidation_0-auc:0.885252\tvalidation_1-auc:0.883914\n",
      "[68]\tvalidation_0-auc:0.885573\tvalidation_1-auc:0.884248\n",
      "[69]\tvalidation_0-auc:0.88573\tvalidation_1-auc:0.884388\n",
      "[70]\tvalidation_0-auc:0.885957\tvalidation_1-auc:0.884596\n",
      "[71]\tvalidation_0-auc:0.886199\tvalidation_1-auc:0.884812\n",
      "[72]\tvalidation_0-auc:0.886424\tvalidation_1-auc:0.885018\n",
      "[73]\tvalidation_0-auc:0.886684\tvalidation_1-auc:0.885267\n",
      "[74]\tvalidation_0-auc:0.887065\tvalidation_1-auc:0.885643\n",
      "[75]\tvalidation_0-auc:0.887196\tvalidation_1-auc:0.885739\n",
      "[76]\tvalidation_0-auc:0.887384\tvalidation_1-auc:0.885884\n",
      "[77]\tvalidation_0-auc:0.887459\tvalidation_1-auc:0.885947\n",
      "[78]\tvalidation_0-auc:0.887499\tvalidation_1-auc:0.885985\n",
      "[79]\tvalidation_0-auc:0.887548\tvalidation_1-auc:0.886036\n",
      "[80]\tvalidation_0-auc:0.887729\tvalidation_1-auc:0.886183\n",
      "[81]\tvalidation_0-auc:0.887776\tvalidation_1-auc:0.886226\n",
      "[82]\tvalidation_0-auc:0.887859\tvalidation_1-auc:0.886311\n",
      "[83]\tvalidation_0-auc:0.888015\tvalidation_1-auc:0.886457\n",
      "[84]\tvalidation_0-auc:0.888209\tvalidation_1-auc:0.886614\n",
      "[85]\tvalidation_0-auc:0.888375\tvalidation_1-auc:0.886775\n",
      "[86]\tvalidation_0-auc:0.88889\tvalidation_1-auc:0.887255\n",
      "[87]\tvalidation_0-auc:0.88896\tvalidation_1-auc:0.887304\n",
      "[88]\tvalidation_0-auc:0.889127\tvalidation_1-auc:0.887443\n",
      "[89]\tvalidation_0-auc:0.8892\tvalidation_1-auc:0.887494\n",
      "[90]\tvalidation_0-auc:0.889566\tvalidation_1-auc:0.887834\n",
      "[91]\tvalidation_0-auc:0.889606\tvalidation_1-auc:0.887875\n",
      "[92]\tvalidation_0-auc:0.889683\tvalidation_1-auc:0.887936\n",
      "[93]\tvalidation_0-auc:0.889794\tvalidation_1-auc:0.888038\n",
      "[94]\tvalidation_0-auc:0.890043\tvalidation_1-auc:0.888278\n",
      "[95]\tvalidation_0-auc:0.890158\tvalidation_1-auc:0.888391\n",
      "[96]\tvalidation_0-auc:0.890242\tvalidation_1-auc:0.888461\n",
      "[97]\tvalidation_0-auc:0.890756\tvalidation_1-auc:0.888965\n",
      "[98]\tvalidation_0-auc:0.891123\tvalidation_1-auc:0.889341\n",
      "[99]\tvalidation_0-auc:0.891317\tvalidation_1-auc:0.8895\n",
      "\n",
      "### Accuracy: ###\n"
     ]
    }
   ],
   "source": [
    "xgboost.fit(x_train,y_train,eval_set=eval_set, eval_metric=\"auc\", early_stopping_rounds=25)\n",
    "\n",
    "#Accuracy\n",
    "\n",
    "print(\"\\n### Accuracy: ###\")"
   ]
  },
  {
   "cell_type": "code",
   "execution_count": 21,
   "metadata": {},
   "outputs": [
    {
     "data": {
      "image/png": "[encoded data removed]",
      "text/plain": [
       "<matplotlib.figure.Figure at 0x2b0a289eda0>"
      ]
     },
     "metadata": {},
     "output_type": "display_data"
    }
   ],
   "source": [
    "from xgboost import plot_importance\n",
    "# Feature importance\n",
    "# Plot feature importance\n",
    "plot_importance(xgboost)\n",
    "plt.show()"
   ]
  },
  {
   "cell_type": "code",
   "execution_count": 24,
   "metadata": {
    "scrolled": true
   },
   "outputs": [
    {
     "data": {
      "text/html": [
       "<div>\n",
       "<style>\n",
       "    .dataframe thead tr:only-child th {\n",
       "        text-align: right;\n",
       "    }\n",
       "\n",
       "    .dataframe thead th {\n",
       "        text-align: left;\n",
       "    }\n",
       "\n",
       "    .dataframe tbody tr th {\n",
       "        vertical-align: top;\n",
       "    }\n",
       "</style>\n",
       "<table border=\"1\" class=\"dataframe\">\n",
       "  <thead>\n",
       "    <tr style=\"text-align: right;\">\n",
       "      <th></th>\n",
       "      <th>Features</th>\n",
       "      <th>Imps</th>\n",
       "    </tr>\n",
       "  </thead>\n",
       "  <tbody>\n",
       "    <tr>\n",
       "      <th>2</th>\n",
       "      <td>play_time</td>\n",
       "      <td>0.153739</td>\n",
       "    </tr>\n",
       "    <tr>\n",
       "      <th>0</th>\n",
       "      <td>wk</td>\n",
       "      <td>0.098183</td>\n",
       "    </tr>\n",
       "    <tr>\n",
       "      <th>1</th>\n",
       "      <td>cnt_dt</td>\n",
       "      <td>0.078616</td>\n",
       "    </tr>\n",
       "    <tr>\n",
       "      <th>6</th>\n",
       "      <td>quest_hongmun</td>\n",
       "      <td>0.060447</td>\n",
       "    </tr>\n",
       "    <tr>\n",
       "      <th>7</th>\n",
       "      <td>item_hongmun</td>\n",
       "      <td>0.047170</td>\n",
       "    </tr>\n",
       "    <tr>\n",
       "      <th>9</th>\n",
       "      <td>get_money</td>\n",
       "      <td>0.045423</td>\n",
       "    </tr>\n",
       "    <tr>\n",
       "      <th>32</th>\n",
       "      <td>guild_chat</td>\n",
       "      <td>0.043676</td>\n",
       "    </tr>\n",
       "    <tr>\n",
       "      <th>4</th>\n",
       "      <td>npc_hongmun</td>\n",
       "      <td>0.042628</td>\n",
       "    </tr>\n",
       "    <tr>\n",
       "      <th>34</th>\n",
       "      <td>cnt_use_buffitem</td>\n",
       "      <td>0.039133</td>\n",
       "    </tr>\n",
       "    <tr>\n",
       "      <th>29</th>\n",
       "      <td>whisper_chat</td>\n",
       "      <td>0.038435</td>\n",
       "    </tr>\n",
       "  </tbody>\n",
       "</table>\n",
       "</div>"
      ],
      "text/plain": [
       "            Features      Imps\n",
       "2          play_time  0.153739\n",
       "0                 wk  0.098183\n",
       "1             cnt_dt  0.078616\n",
       "6      quest_hongmun  0.060447\n",
       "7       item_hongmun  0.047170\n",
       "9          get_money  0.045423\n",
       "32        guild_chat  0.043676\n",
       "4        npc_hongmun  0.042628\n",
       "34  cnt_use_buffitem  0.039133\n",
       "29      whisper_chat  0.038435"
      ]
     },
     "execution_count": 24,
     "metadata": {},
     "output_type": "execute_result"
    }
   ],
   "source": [
    "Imps = DataFrame({\"Features\":train.columns, \n",
    "                  \"Imps\":xgboost.feature_importances_}) \\\n",
    "                  .sort_values(by=\"Imps\", ascending=False)\n",
    "Imps.head(10)"
   ]
  },
  {
   "cell_type": "code",
   "execution_count": 25,
   "metadata": {},
   "outputs": [
    {
     "data": {
      "text/plain": [
       "((440323, 35), (175631, 35))"
      ]
     },
     "execution_count": 25,
     "metadata": {},
     "output_type": "execute_result"
    }
   ],
   "source": [
    "# 변수 중요도가 0이 아닌 변수 목록을 list로 만들기\n",
    "impVars = list(Imps[Imps.Imps != 0].iloc[:,0])\n",
    "\n",
    "# 해당 변수로만 데이터셋 만들기\n",
    "train = train[impVars]\n",
    "test = test[impVars]\n",
    "\n",
    "train.shape, test.shape"
   ]
  },
  {
   "cell_type": "code",
   "execution_count": 19,
   "metadata": {
    "scrolled": true
   },
   "outputs": [
    {
     "name": "stdout",
     "output_type": "stream",
     "text": [
      "False positive: 0.2119128270007754\n",
      "False Negative: 0.24377548364708945\n",
      "Sum false: 16005\n",
      "f1_score: 0.8596261960935649\n",
      "\n",
      "### Compute prediction: ###\n"
     ]
    }
   ],
   "source": [
    "y_pred = xgboost.predict(x_test)\n",
    "# True Positive \n",
    "tp = np.sum(np.logical_and(y_pred == 1, y_test == 1))\n",
    "# True Negative\n",
    "tn = np.sum(np.logical_and(y_pred == 0, y_test == 0))\n",
    "# False Positive\n",
    "fp = np.sum(np.logical_and(y_pred == 1, y_test == 0))\n",
    " # False Negative\n",
    "fn = np.sum(np.logical_and(y_pred == 0, y_test == 1))\n",
    "\n",
    "print(\"False positive:\",fp/tp)\n",
    "print(\"False Negative:\",fn/tn)\n",
    "print(\"Sum false:\",fp+fn)\n",
    "print(\"f1_score:\",2*(((tp/(tp+fp))*(tp/(tp+fn)))/\n",
    "                                                 ((tp/(tp+fp))+(tp/(tp+fn)))))\n",
    "\n",
    "print(\"\\n### Compute prediction: ###\")"
   ]
  },
  {
   "cell_type": "markdown",
   "metadata": {},
   "source": [
    "base model을 위한 데이터 전처리는 여기까지 완료하고, 이제 본격적으로 모델을 만들어보도록 하겠습니다. base model을 위한 도구로는 이미지 문제를 제외한 일반적인 tabular 데이터를 활용한 대회에서 95% 이상의 캐글 우승자들이 메인 모델로 활용한 xgboost입니다. 우선..\n",
    "\n",
    "1. 다양한 파라미터 조합의 성능을 확인해보고\n",
    "2. 최적의 성능을 보여주는 파라미터 조합을 발견한 후\n",
    "3. 해당 파라미터 조합으로 5-fold-validation을 통해 submission 해보도록 하겠습니다.\n",
    "\n",
    " 우선 최적의 파라미터 조합을 찾아보겠습니다.\n",
    "\n",
    "# 최적의 파라미터 찾기 "
   ]
  },
  {
   "cell_type": "code",
   "execution_count": 26,
   "metadata": {
    "collapsed": true
   },
   "outputs": [],
   "source": [
    "## 성능 검증용 펑션 (roc_auc_score) 및 학습셋/검증셋 구분 위한 펑션 (train_test_split) 호출\n",
    "\n",
    "from sklearn.metrics import roc_auc_score\n",
    "from sklearn.model_selection import train_test_split\n",
    "\n",
    "## 학습셋/검증셋 구분\n",
    "Xtrain, Xtest, ytrain,ytest = train_test_split(train,y,test_size=0.3)\n",
    "\n",
    "## 파라미터 조합을 저장할 DataFrame 만들어두기\n",
    "parameters = DataFrame({\n",
    "                                         \"3colsample\":[0],\n",
    "                                         \"4max_depth\" : [0],\n",
    "                                         \"5gamma\" : [0],\n",
    "                                         \"6reg_l2\" : [0],\n",
    "                                         \"7reg_l1\" : [0],\n",
    "                                         \"8AUC\":[0]})\n",
    "\n",
    "## 검증할 파라미터 조합 List로 만들기\n",
    "colsample_bytree = [0.4, 0.6, 0.8]\n",
    "max_depth = [4, 8,12]\n",
    "gamma = [0,2]\n",
    "reg_l2 = [0,0.5]\n",
    "reg_l1 = [0,0.5]"
   ]
  },
  {
   "cell_type": "markdown",
   "metadata": {},
   "source": [
    "- colsample_by_tree : 하나의 tree 적합시 전체 feature 중 몇 %를 활용할 것인지 설정합니다. 비중을 낮출수록 다양한 모형을 만들게 됩니다.\n",
    "- max_depth : 하나의 트리를 만들때 얼마나 깊게 만들지를 설정합니다.\n",
    "- gamma : 한 번의 split을 성사시키기 위한 loss 감소의 최소값입니다. 크면 클수록 보수적으로 트리를 나눈게 됩니다. \n",
    "- lambda (reg_l2) : L2 regularization 계수입니다.\n",
    "- alpha (reg_l1) : L1 regularization 계수입니다.\n"
   ]
  },
  {
   "cell_type": "code",
   "execution_count": null,
   "metadata": {},
   "outputs": [
    {
     "name": "stdout",
     "output_type": "stream",
     "text": [
      "[0]\tvalidation_0-auc:0.799643\tvalidation_1-auc:0.800269\n",
      "Multiple eval metrics have been passed: 'validation_1-auc' will be used for early stopping.\n",
      "\n",
      "Will train until validation_1-auc hasn't improved in 100 rounds.\n",
      "[500]\tvalidation_0-auc:0.881992\tvalidation_1-auc:0.882173\n",
      "[1000]\tvalidation_0-auc:0.889994\tvalidation_1-auc:0.889177\n",
      "[1500]\tvalidation_0-auc:0.894538\tvalidation_1-auc:0.892904\n",
      "[2000]\tvalidation_0-auc:0.897533\tvalidation_1-auc:0.895166\n",
      "[2500]\tvalidation_0-auc:0.899897\tvalidation_1-auc:0.896862\n",
      "[2999]\tvalidation_0-auc:0.90171\tvalidation_1-auc:0.898026\n",
      "644.3571403026581\n",
      "0 finished\n",
      "[0]\tvalidation_0-auc:0.799643\tvalidation_1-auc:0.800269\n",
      "Multiple eval metrics have been passed: 'validation_1-auc' will be used for early stopping.\n",
      "\n",
      "Will train until validation_1-auc hasn't improved in 100 rounds.\n",
      "[500]\tvalidation_0-auc:0.881992\tvalidation_1-auc:0.882173\n",
      "[1000]\tvalidation_0-auc:0.889994\tvalidation_1-auc:0.889177\n",
      "[1500]\tvalidation_0-auc:0.894538\tvalidation_1-auc:0.892904\n",
      "[2000]\tvalidation_0-auc:0.897533\tvalidation_1-auc:0.895166\n",
      "[2500]\tvalidation_0-auc:0.899897\tvalidation_1-auc:0.896862\n",
      "[2999]\tvalidation_0-auc:0.90171\tvalidation_1-auc:0.898026\n",
      "628.3318660259247\n",
      "1 finished\n",
      "[0]\tvalidation_0-auc:0.799643\tvalidation_1-auc:0.800269\n",
      "Multiple eval metrics have been passed: 'validation_1-auc' will be used for early stopping.\n",
      "\n",
      "Will train until validation_1-auc hasn't improved in 100 rounds.\n",
      "[500]\tvalidation_0-auc:0.881992\tvalidation_1-auc:0.882173\n",
      "[1000]\tvalidation_0-auc:0.889994\tvalidation_1-auc:0.889177\n",
      "[1500]\tvalidation_0-auc:0.894538\tvalidation_1-auc:0.892904\n",
      "[2000]\tvalidation_0-auc:0.897533\tvalidation_1-auc:0.895166\n",
      "[2500]\tvalidation_0-auc:0.899897\tvalidation_1-auc:0.896862\n",
      "[2999]\tvalidation_0-auc:0.90171\tvalidation_1-auc:0.898026\n",
      "599.7244579792023\n",
      "2 finished\n",
      "[0]\tvalidation_0-auc:0.799643\tvalidation_1-auc:0.800269\n",
      "Multiple eval metrics have been passed: 'validation_1-auc' will be used for early stopping.\n",
      "\n",
      "Will train until validation_1-auc hasn't improved in 100 rounds.\n",
      "[500]\tvalidation_0-auc:0.881992\tvalidation_1-auc:0.882173\n",
      "[1000]\tvalidation_0-auc:0.889994\tvalidation_1-auc:0.889177\n",
      "[1500]\tvalidation_0-auc:0.894538\tvalidation_1-auc:0.892904\n",
      "[2000]\tvalidation_0-auc:0.897533\tvalidation_1-auc:0.895166\n",
      "[2500]\tvalidation_0-auc:0.899897\tvalidation_1-auc:0.896862\n",
      "[2999]\tvalidation_0-auc:0.90171\tvalidation_1-auc:0.898026\n",
      "589.5775902271271\n",
      "3 finished\n",
      "[0]\tvalidation_0-auc:0.799643\tvalidation_1-auc:0.800269\n",
      "Multiple eval metrics have been passed: 'validation_1-auc' will be used for early stopping.\n",
      "\n",
      "Will train until validation_1-auc hasn't improved in 100 rounds.\n",
      "[500]\tvalidation_0-auc:0.882202\tvalidation_1-auc:0.882358\n",
      "[1000]\tvalidation_0-auc:0.89022\tvalidation_1-auc:0.889424\n"
     ]
    }
   ],
   "source": [
    "import time\n",
    "\n",
    "i = 0\n",
    "\n",
    "## 파라미터 조합별 반복 설정..\n",
    "for colsample in colsample_bytree:\n",
    "    for max in max_depth:\n",
    "        for gam in gamma:\n",
    "            for l2 in reg_l2:\n",
    "                for l1 in reg_l1:\n",
    "                    \n",
    "                    ## 파라미터 설정\n",
    "                    params = {\"learning_rate\" : 0.02,\n",
    "                                             \"n_estimators\" : 3000,\n",
    "                                             \"max_depth\" : max,\n",
    "                                             \"colsample_bytree\" : colsample,\n",
    "                                             \"gamma\" : gam,\n",
    "                                              \"lambda\" : l2,\n",
    "                                              'alpha' : l1, \"n_jobs\" : 14,\n",
    "                                             \"objective\" : \"binary:logistic\"}\n",
    "                    \n",
    "                    clf = xgb.XGBClassifier(**params)\n",
    "                        \n",
    "                    s = time.time()  ## 적합 시작시간 저장\n",
    "                    clf.fit(Xtrain, ytrain,\n",
    "                                        eval_set = [(Xtrain,ytrain), (Xtest,ytest)],\n",
    "                                        ## 적합중 early-stopping 하기위한 set 지정\n",
    "                                        eval_metric='auc',\n",
    "                                        ## early-stopping에 활용할 성능지표\n",
    "                                        early_stopping_rounds=100,\n",
    "                                        ## early-stopping시 100회 적합시 성능개선 없으면 학습 종료하도록 설정\n",
    "                                        verbose=500\n",
    "                                        ## 진행상황 500회마다 출력 \n",
    "                                        )\n",
    "                    print(time.time() - s)  ## 적합 소요시간 출력\n",
    "\n",
    "                    r =  DataFrame({\n",
    "                                                      \"3colsample\":[colsample],\n",
    "                                                      \"4max_depth\" : [max],\n",
    "                                                      \"5gamma\" : [gam],\n",
    "                                                      \"6reg_l2\" : [l2],\n",
    "                                                      \"7reg_l1\" : [l1],\n",
    "                                                     #\"8AUC\" : roc_auc_score(ytest,clf.predict_proba(Xtest)[:,1])\n",
    "                                                       })\n",
    "                    parameters = r.append(parameters)\n",
    "                            \n",
    "                    print(i, \"finished\")\n",
    "                    i = i+1"
   ]
  },
  {
   "cell_type": "code",
   "execution_count": null,
   "metadata": {
    "collapsed": true
   },
   "outputs": [],
   "source": []
  }
 ],
 "metadata": {
  "anaconda-cloud": {},
  "kernelspec": {
   "display_name": "Python 3",
   "language": "python",
   "name": "python3"
  },
  "language_info": {
   "codemirror_mode": {
    "name": "ipython",
    "version": 3
   },
   "file_extension": ".py",
   "mimetype": "text/x-python",
   "name": "python",
   "nbconvert_exporter": "python",
   "pygments_lexer": "ipython3",
   "version": "3.6.6"
  }
 },
 "nbformat": 4,
 "nbformat_minor": 1
}
